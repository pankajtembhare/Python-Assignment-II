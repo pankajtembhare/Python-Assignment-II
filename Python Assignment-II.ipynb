{
 "cells": [
  {
   "cell_type": "markdown",
   "id": "5fa7c75f",
   "metadata": {},
   "source": [
    "# Python Assignment"
   ]
  },
  {
   "cell_type": "markdown",
   "id": "3d891651",
   "metadata": {},
   "source": [
    "# Q1. Create a python program to sort the given list of tuples based on integer value using a lambda function."
   ]
  },
  {
   "cell_type": "markdown",
   "id": "d76b16c8",
   "metadata": {},
   "source": [
    "# Ans)"
   ]
  },
  {
   "cell_type": "code",
   "execution_count": 1,
   "id": "20989116",
   "metadata": {},
   "outputs": [
    {
     "name": "stdout",
     "output_type": "stream",
     "text": [
      "[('Virat Kohli', 24936), ('Jack Kallis', 25534), ('Ricky Pointing', 27483), ('Sachin Tendulkar', 34357)]\n"
     ]
    }
   ],
   "source": [
    "lt=[('Sachin Tendulkar',34357),('Ricky Pointing',27483),('Jack Kallis',25534),('Virat Kohli',24936)]\n",
    "\n",
    "lt.sort(key=lambda x:x[1])\n",
    "\n",
    "print(lt)"
   ]
  },
  {
   "cell_type": "markdown",
   "id": "cb61b6db",
   "metadata": {},
   "source": [
    " ."
   ]
  },
  {
   "cell_type": "markdown",
   "id": "0247f1e1",
   "metadata": {},
   "source": [
    "# Q2. Write a Python Program to find the square of all of the numbers in the given list of integers using lambda and map fuctions."
   ]
  },
  {
   "cell_type": "markdown",
   "id": "298cbdf8",
   "metadata": {},
   "source": [
    "# Ans)"
   ]
  },
  {
   "cell_type": "markdown",
   "id": "b4eeaa6a",
   "metadata": {},
   "source": [
    "# Using Lambda Function:"
   ]
  },
  {
   "cell_type": "code",
   "execution_count": 2,
   "id": "cfad87ad",
   "metadata": {},
   "outputs": [],
   "source": [
    "l=[1,2,3,4,5,6,7,8,9,10]\n",
    "key=lambda l:[i*i for i in l]"
   ]
  },
  {
   "cell_type": "code",
   "execution_count": 3,
   "id": "19c10dea",
   "metadata": {},
   "outputs": [
    {
     "data": {
      "text/plain": [
       "[1, 4, 9, 16, 25, 36, 49, 64, 81, 100]"
      ]
     },
     "execution_count": 3,
     "metadata": {},
     "output_type": "execute_result"
    }
   ],
   "source": [
    "key(l)"
   ]
  },
  {
   "cell_type": "markdown",
   "id": "32a5e317",
   "metadata": {},
   "source": [
    "# Using Map function"
   ]
  },
  {
   "cell_type": "code",
   "execution_count": 4,
   "id": "0299d639",
   "metadata": {},
   "outputs": [],
   "source": [
    "def sq(x):\n",
    "    return x*x"
   ]
  },
  {
   "cell_type": "code",
   "execution_count": 5,
   "id": "b7324a96",
   "metadata": {},
   "outputs": [
    {
     "data": {
      "text/plain": [
       "[1, 4, 9, 16, 25, 36, 49, 64, 81, 100]"
      ]
     },
     "execution_count": 5,
     "metadata": {},
     "output_type": "execute_result"
    }
   ],
   "source": [
    "l=[1,2,3,4,5,6,7,8,9,10]\n",
    "list(map(sq,l))"
   ]
  },
  {
   "cell_type": "markdown",
   "id": "4a05a416",
   "metadata": {},
   "source": [
    "# Using Both in a program"
   ]
  },
  {
   "cell_type": "code",
   "execution_count": 6,
   "id": "131c0fd7",
   "metadata": {},
   "outputs": [
    {
     "data": {
      "text/plain": [
       "[1, 4, 9, 16, 25, 36, 49, 64, 81, 100]"
      ]
     },
     "execution_count": 6,
     "metadata": {},
     "output_type": "execute_result"
    }
   ],
   "source": [
    "l=[1,2,3,4,5,6,7,8,9,10]\n",
    "\n",
    "list(map(lambda x :x*x,l))"
   ]
  },
  {
   "cell_type": "markdown",
   "id": "a42ead5d",
   "metadata": {},
   "source": [
    "."
   ]
  },
  {
   "cell_type": "markdown",
   "id": "1f6e3acb",
   "metadata": {},
   "source": [
    "# Q3. Write a Python Program to convert the given list of integers into a tuple of strings. Use map and lamdas functions."
   ]
  },
  {
   "cell_type": "markdown",
   "id": "e6193dcc",
   "metadata": {},
   "source": [
    "# Ans)"
   ]
  },
  {
   "cell_type": "code",
   "execution_count": 7,
   "id": "94144bdd",
   "metadata": {},
   "outputs": [
    {
     "data": {
      "text/plain": [
       "('1', '2', '3', '4', '5', '6', '7', '8', '9', '10')"
      ]
     },
     "execution_count": 7,
     "metadata": {},
     "output_type": "execute_result"
    }
   ],
   "source": [
    "l=[1,2,3,4,5,6,7,8,9,10]\n",
    "\n",
    "tuple(map(lambda x:str(x),l))"
   ]
  },
  {
   "cell_type": "markdown",
   "id": "f98aef74",
   "metadata": {},
   "source": [
    "."
   ]
  },
  {
   "cell_type": "markdown",
   "id": "680217b2",
   "metadata": {},
   "source": [
    "# Q4. Write a Python program using reduce function to compute the product of a list containing numbers from 1 to 25"
   ]
  },
  {
   "cell_type": "markdown",
   "id": "60f4129e",
   "metadata": {},
   "source": [
    "## Ans)"
   ]
  },
  {
   "cell_type": "code",
   "execution_count": 8,
   "id": "1d0fb2a7",
   "metadata": {},
   "outputs": [],
   "source": [
    "import numpy as np\n",
    "from functools import reduce\n",
    "\n",
    "l=np.arange(1,26)"
   ]
  },
  {
   "cell_type": "code",
   "execution_count": 9,
   "id": "fef00a9a",
   "metadata": {},
   "outputs": [
    {
     "data": {
      "text/plain": [
       "array([ 1,  2,  3,  4,  5,  6,  7,  8,  9, 10, 11, 12, 13, 14, 15, 16, 17,\n",
       "       18, 19, 20, 21, 22, 23, 24, 25])"
      ]
     },
     "execution_count": 9,
     "metadata": {},
     "output_type": "execute_result"
    }
   ],
   "source": [
    "l"
   ]
  },
  {
   "cell_type": "code",
   "execution_count": 10,
   "id": "c99de3ad",
   "metadata": {},
   "outputs": [
    {
     "name": "stderr",
     "output_type": "stream",
     "text": [
      "C:\\Users\\Pankaj A. Tembhare\\AppData\\Local\\Temp\\ipykernel_26740\\1665481443.py:1: RuntimeWarning: overflow encountered in scalar multiply\n",
      "  reduce(lambda x,y:x*y,l)\n"
     ]
    },
    {
     "data": {
      "text/plain": [
       "2076180480"
      ]
     },
     "execution_count": 10,
     "metadata": {},
     "output_type": "execute_result"
    }
   ],
   "source": [
    "reduce(lambda x,y:x*y,l)"
   ]
  },
  {
   "cell_type": "markdown",
   "id": "5d0a3bb4",
   "metadata": {},
   "source": [
    "."
   ]
  },
  {
   "cell_type": "markdown",
   "id": "e7d0392a",
   "metadata": {},
   "source": [
    "# Q5. Write a Python program to filter a numbers in a given list that are divisible by 2 and 3 using the filter function."
   ]
  },
  {
   "cell_type": "code",
   "execution_count": 11,
   "id": "f2b6305d",
   "metadata": {},
   "outputs": [
    {
     "data": {
      "text/plain": [
       "[2, 3, 6, 9, 27, 60, 90, 120, 46]"
      ]
     },
     "execution_count": 11,
     "metadata": {},
     "output_type": "execute_result"
    }
   ],
   "source": [
    "l=[2,3,6,9,27,60,90,120,55,46]\n",
    "list(filter(lambda x: x%2==0 or x%3==0,l))"
   ]
  },
  {
   "cell_type": "markdown",
   "id": "93192277",
   "metadata": {},
   "source": [
    "."
   ]
  },
  {
   "cell_type": "markdown",
   "id": "3b8a7251",
   "metadata": {},
   "source": [
    "# Q6. Write a Python program to find palindrome in the given list of strings using lambda and filter function."
   ]
  },
  {
   "cell_type": "code",
   "execution_count": 12,
   "id": "eeb452cb",
   "metadata": {},
   "outputs": [
    {
     "data": {
      "text/plain": [
       "['php', 'aba', 'radar', 'level']"
      ]
     },
     "execution_count": 12,
     "metadata": {},
     "output_type": "execute_result"
    }
   ],
   "source": [
    "l=['python','php','aba','radar','level']\n",
    "\n",
    "list(filter(lambda x : x==''.join(reversed(x)),l))"
   ]
  }
 ],
 "metadata": {
  "kernelspec": {
   "display_name": "Python 3 (ipykernel)",
   "language": "python",
   "name": "python3"
  },
  "language_info": {
   "codemirror_mode": {
    "name": "ipython",
    "version": 3
   },
   "file_extension": ".py",
   "mimetype": "text/x-python",
   "name": "python",
   "nbconvert_exporter": "python",
   "pygments_lexer": "ipython3",
   "version": "3.11.1"
  }
 },
 "nbformat": 4,
 "nbformat_minor": 5
}
